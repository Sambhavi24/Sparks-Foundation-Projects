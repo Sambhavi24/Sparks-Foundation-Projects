{
 "cells": [
  {
   "cell_type": "markdown",
   "metadata": {
    "id": "hRXMu3ZG05r-"
   },
   "source": [
    "# **Task Details:**\n",
    "Prediction using Supervised ML.\n",
    "\n",
    "Predict the percentage of an student based on the no. of study hours.\n",
    "\n",
    "This is a **simple linear regression** task as it involves just 2 variables.\n",
    "\n",
    "Dataset - http://bit.ly/w-data\n",
    "\n",
    "### **Problem Statement:**\n",
    "\n",
    "What will be predicted score if a student studies for 9.25 hrs/day?"
   ]
  },
  {
   "cell_type": "markdown",
   "metadata": {
    "id": "26Eoa2-z6GRy"
   },
   "source": [
    "# **Prediction:**"
   ]
  },
  {
   "cell_type": "code",
   "execution_count": 1,
   "metadata": {
    "id": "t141NduUzPWZ"
   },
   "outputs": [],
   "source": [
    "# importing the required libraries\n",
    "import pandas as pd\n",
    "import numpy as np\n",
    "import matplotlib.pyplot as plt\n",
    "from sklearn.model_selection import train_test_split\n",
    "from sklearn.linear_model import LinearRegression\n",
    "from sklearn.metrics import mean_absolute_error, mean_squared_error"
   ]
  },
  {
   "cell_type": "code",
   "execution_count": 2,
   "metadata": {
    "colab": {
     "base_uri": "https://localhost:8080/",
     "height": 363
    },
    "id": "1HeJeIvozdrJ",
    "outputId": "5f3be058-3aff-44e7-fd0a-4c7cc54b6d97"
   },
   "outputs": [
    {
     "data": {
      "text/html": [
       "<div>\n",
       "<style scoped>\n",
       "    .dataframe tbody tr th:only-of-type {\n",
       "        vertical-align: middle;\n",
       "    }\n",
       "\n",
       "    .dataframe tbody tr th {\n",
       "        vertical-align: top;\n",
       "    }\n",
       "\n",
       "    .dataframe thead th {\n",
       "        text-align: right;\n",
       "    }\n",
       "</style>\n",
       "<table border=\"1\" class=\"dataframe\">\n",
       "  <thead>\n",
       "    <tr style=\"text-align: right;\">\n",
       "      <th></th>\n",
       "      <th>Hours</th>\n",
       "      <th>Scores</th>\n",
       "    </tr>\n",
       "  </thead>\n",
       "  <tbody>\n",
       "    <tr>\n",
       "      <th>0</th>\n",
       "      <td>2.5</td>\n",
       "      <td>21</td>\n",
       "    </tr>\n",
       "    <tr>\n",
       "      <th>1</th>\n",
       "      <td>5.1</td>\n",
       "      <td>47</td>\n",
       "    </tr>\n",
       "    <tr>\n",
       "      <th>2</th>\n",
       "      <td>3.2</td>\n",
       "      <td>27</td>\n",
       "    </tr>\n",
       "    <tr>\n",
       "      <th>3</th>\n",
       "      <td>8.5</td>\n",
       "      <td>75</td>\n",
       "    </tr>\n",
       "    <tr>\n",
       "      <th>4</th>\n",
       "      <td>3.5</td>\n",
       "      <td>30</td>\n",
       "    </tr>\n",
       "    <tr>\n",
       "      <th>5</th>\n",
       "      <td>1.5</td>\n",
       "      <td>20</td>\n",
       "    </tr>\n",
       "    <tr>\n",
       "      <th>6</th>\n",
       "      <td>9.2</td>\n",
       "      <td>88</td>\n",
       "    </tr>\n",
       "    <tr>\n",
       "      <th>7</th>\n",
       "      <td>5.5</td>\n",
       "      <td>60</td>\n",
       "    </tr>\n",
       "    <tr>\n",
       "      <th>8</th>\n",
       "      <td>8.3</td>\n",
       "      <td>81</td>\n",
       "    </tr>\n",
       "    <tr>\n",
       "      <th>9</th>\n",
       "      <td>2.7</td>\n",
       "      <td>25</td>\n",
       "    </tr>\n",
       "  </tbody>\n",
       "</table>\n",
       "</div>"
      ],
      "text/plain": [
       "   Hours  Scores\n",
       "0    2.5      21\n",
       "1    5.1      47\n",
       "2    3.2      27\n",
       "3    8.5      75\n",
       "4    3.5      30\n",
       "5    1.5      20\n",
       "6    9.2      88\n",
       "7    5.5      60\n",
       "8    8.3      81\n",
       "9    2.7      25"
      ]
     },
     "execution_count": 2,
     "metadata": {},
     "output_type": "execute_result"
    }
   ],
   "source": [
    "# data collection and exploration\n",
    "dataset_url = \"http://bit.ly/w-data\"\n",
    "dataset = pd.read_csv(dataset_url)\n",
    "dataset.head(10)"
   ]
  },
  {
   "cell_type": "code",
   "execution_count": 3,
   "metadata": {
    "id": "2zOCSms__1GZ"
   },
   "outputs": [],
   "source": [
    "# clearing the warning of linear regression\n",
    "feature_names = ['Hours']"
   ]
  },
  {
   "cell_type": "code",
   "execution_count": 4,
   "metadata": {
    "colab": {
     "base_uri": "https://localhost:8080/",
     "height": 472
    },
    "id": "MV1WgIwX6ilR",
    "outputId": "5a0d0ba5-f3c8-46c1-c889-d96d42de057c"
   },
   "outputs": [
    {
     "data": {
      "image/png": "[encoded data removed]",
      "text/plain": [
       "<Figure size 432x288 with 1 Axes>"
      ]
     },
     "metadata": {
      "needs_background": "light"
     },
     "output_type": "display_data"
    }
   ],
   "source": [
    "# data visualization\n",
    "plt.scatter(dataset['Hours'],dataset['Scores'])\n",
    "plt.title('Hours vs Scores')\n",
    "plt.xlabel('Hours of student study')\n",
    "plt.ylabel('Scores of student')\n",
    "plt.show()"
   ]
  },
  {
   "cell_type": "code",
   "execution_count": 5,
   "metadata": {
    "id": "8Jj3cxbe7olX"
   },
   "outputs": [],
   "source": [
    "# spliting the data into training and test data\n",
    "X = dataset[feature_names]\n",
    "y = dataset['Scores']\n",
    "X_train, X_test, y_train, y_test = train_test_split(X, y, test_size = 0.2, random_state = 0)"
   ]
  },
  {
   "cell_type": "code",
   "execution_count": 6,
   "metadata": {
    "colab": {
     "base_uri": "https://localhost:8080/",
     "height": 74
    },
    "id": "UcJqEz5f8m89",
    "outputId": "c9bc88c5-e50b-4250-d9c8-8d1e5c0a0ebe"
   },
   "outputs": [
    {
     "data": {
      "text/plain": [
       "LinearRegression()"
      ]
     },
     "execution_count": 6,
     "metadata": {},
     "output_type": "execute_result"
    }
   ],
   "source": [
    "# model selection and training for 2 variables\n",
    "model = LinearRegression()\n",
    "model.fit(X_train, y_train)"
   ]
  },
  {
   "cell_type": "code",
   "execution_count": 7,
   "metadata": {
    "colab": {
     "base_uri": "https://localhost:8080/"
    },
    "id": "htsxWf9g8_7R",
    "outputId": "8f503c9b-ecaf-4bbf-cc01-c3b5feb861da"
   },
   "outputs": [
    {
     "name": "stdout",
     "output_type": "stream",
     "text": [
      "X_test prediction value is [16.88414476 33.73226078 75.357018   26.79480124 60.49103328]\n",
      "4.183859899002975\n",
      "21.5987693072174\n",
      "4.6474476121003665\n"
     ]
    }
   ],
   "source": [
    "# model evaluating\n",
    "y_pred = model.predict(X_test)\n",
    "ma_error = mean_absolute_error(y_test, y_pred)\n",
    "ms_error = mean_squared_error(y_test, y_pred)\n",
    "root_ms_error = np.sqrt(ms_error)\n",
    "\n",
    "print(f\"X_test prediction value is {y_pred}\")\n",
    "print(ma_error)\n",
    "print(ms_error)\n",
    "print(root_ms_error)"
   ]
  },
  {
   "cell_type": "code",
   "execution_count": 8,
   "metadata": {
    "colab": {
     "base_uri": "https://localhost:8080/"
    },
    "id": "tIW01qgr-ZL2",
    "outputId": "6a723acc-79f7-4d09-ebcf-7464c0a61f51"
   },
   "outputs": [],
   "source": [
    "# making prediction\n",
    "hours_predict = 9.25\n",
    "prediction_value = model.predict(np.array([[hours_predict]]))"
   ]
  },
  {
   "cell_type": "code",
   "execution_count": 9,
   "metadata": {
    "colab": {
     "base_uri": "https://localhost:8080/"
    },
    "id": "6qoANaj0-yNf",
    "outputId": "53f18873-50e2-4ee7-fb03-96c8aab59e9f"
   },
   "outputs": [
    {
     "name": "stdout",
     "output_type": "stream",
     "text": [
      "Predicted score for 9.25 hours of study: 93.69173248737538\n"
     ]
    }
   ],
   "source": [
    "# printing the predicted scores\n",
    "print(f\"Predicted score for {hours_predict} hours of study: {prediction_value[0]}\")"
   ]
  },
  {
   "cell_type": "markdown",
   "metadata": {
    "id": "X_UD7eYHGl7x"
   },
   "source": [
    "Predicted score for 9.25 hours of study: **93.69173248737539**"
   ]
  },
  {
   "cell_type": "markdown",
   "metadata": {
    "id": "kpD0c433Ljrv"
   },
   "source": [
    "# Model Evaluation details:"
   ]
  },
  {
   "cell_type": "code",
   "execution_count": 10,
   "metadata": {
    "colab": {
     "base_uri": "https://localhost:8080/",
     "height": 559
    },
    "id": "sYUBkiQFKqbR",
    "outputId": "456d82f0-324a-4911-e1c6-ecbd1aff1a59"
   },
   "outputs": [
    {
     "name": "stdout",
     "output_type": "stream",
     "text": [
      "Model Evaluation Metrics:\n",
      "Mean Absolute Error (MAE): 4.183859899002975\n",
      "Mean Squared Error (MSE): 21.5987693072174\n",
      "Root Mean Squared Error (RMSE): 4.6474476121003665\n",
      "Predicted score for 9.25 hours of study: 93.69173248737538\n"
     ]
    },
    {
     "data": {
      "image/png": "[encoded data removed]",
      "text/plain": [
       "<Figure size 432x288 with 1 Axes>"
      ]
     },
     "metadata": {
      "needs_background": "light"
     },
     "output_type": "display_data"
    }
   ],
   "source": [
    "# summarizing the results and visualization\n",
    "print(\"Model Evaluation Metrics:\")\n",
    "print(f\"Mean Absolute Error (MAE): {ma_error}\")\n",
    "print(f\"Mean Squared Error (MSE): {ms_error}\")\n",
    "print(f\"Root Mean Squared Error (RMSE): {root_ms_error}\")\n",
    "print(f\"Predicted score for {hours_predict} hours of study: {prediction_value[0]}\")\n",
    "# Visualization of Predictions vs. Actual Data\n",
    "plt.scatter(X_test, y_test, label='Actual Scores')\n",
    "plt.plot(X_test, y_pred, color='red', linewidth=2, label='Predicted Scores')\n",
    "plt.xlabel('Hours of Study')\n",
    "plt.ylabel('Scores')\n",
    "plt.title('Actual Scores vs. Predicted Scores')\n",
    "plt.legend()\n",
    "plt.show()\n"
   ]
  },
  {
   "cell_type": "markdown",
   "metadata": {
    "id": "eHpswsYNG-I4"
   },
   "source": []
  },
  {
   "cell_type": "code",
   "execution_count": null,
   "metadata": {},
   "outputs": [],
   "source": []
  }
 ],
 "metadata": {
  "colab": {
   "provenance": []
  },
  "kernelspec": {
   "display_name": "Python 3",
   "language": "python",
   "name": "python3"
  },
  "language_info": {
   "codemirror_mode": {
    "name": "ipython",
    "version": 3
   },
   "file_extension": ".py",
   "mimetype": "text/x-python",
   "name": "python",
   "nbconvert_exporter": "python",
   "pygments_lexer": "ipython3",
   "version": "3.8.8"
  }
 },
 "nbformat": 4,
 "nbformat_minor": 1
}
